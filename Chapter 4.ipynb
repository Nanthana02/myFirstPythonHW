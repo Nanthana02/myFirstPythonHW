{
 "cells": [
  {
   "cell_type": "markdown",
   "metadata": {},
   "source": [
    "### Chapter 4"
   ]
  },
  {
   "cell_type": "markdown",
   "metadata": {},
   "source": [
    "#### Nanthana Howong 6310301006"
   ]
  },
  {
   "cell_type": "markdown",
   "metadata": {},
   "source": [
    "### Postfix"
   ]
  },
  {
   "cell_type": "code",
   "execution_count": 1,
   "metadata": {},
   "outputs": [
    {
     "name": "stdout",
     "output_type": "stream",
     "text": [
      "72\n"
     ]
    }
   ],
   "source": [
    "class Stack :\n",
    "    def __init__(self):\n",
    "        self.items = []\n",
    "    def is_empty(self):\n",
    "        return self.items == []\n",
    "    def push(self,item):\n",
    "        self.items.append(item)\n",
    "    def pop(self):\n",
    "        return self.items.pop()\n",
    "    def peek(self):\n",
    "        return self.items[len(self.items)-1]\n",
    "    def size(self):\n",
    "        return len(self.items)\n",
    "def postfix_eval(postfix_expr):\n",
    "    operand_stack = Stack()\n",
    "    token_list = postfix_expr.split()\n",
    "   \n",
    "    for token in token_list:\n",
    "        if token in \"0123456789\":\n",
    "            operand_stack.push(int(token))\n",
    "        else:\n",
    "            operand2 = operand_stack.pop()\n",
    "            operand1 = operand_stack.pop()\n",
    "            result = do_math(token, operand1, operand2)\n",
    "            operand_stack.push(result)\n",
    "    return operand_stack.pop()\n",
    "\n",
    "def do_math(num, op1, op2):\n",
    "    if num == \"*\":\n",
    "        return op1 * op2\n",
    "    elif num == \"/\":\n",
    "        return op1 / op2\n",
    "    elif num == \"+\":\n",
    "        return op1 + op2\n",
    "    else:\n",
    "        return op1 - op2\n",
    "\n",
    "print(postfix_eval('5 1 + 3 9 + *'))"
   ]
  },
  {
   "cell_type": "markdown",
   "metadata": {},
   "source": [
    "### Bank"
   ]
  },
  {
   "cell_type": "code",
   "execution_count": 2,
   "metadata": {},
   "outputs": [
    {
     "name": "stdout",
     "output_type": "stream",
     "text": [
      "\n",
      "\n",
      "choose 1 > counter 1 to go, choose 2 > counter 2 to go,choose 3 > costomer waiting..,choose 4 > Exit!\n",
      "\n",
      "\n",
      "Choose an order :3\n",
      "Name :palm\n",
      "Remaining queue ['palm']\n",
      "\n",
      "\n",
      "choose 1 > counter 1 to go, choose 2 > counter 2 to go,choose 3 > costomer waiting..,choose 4 > Exit!\n",
      "\n",
      "\n",
      "Choose an order :1\n",
      "Name :palm\n",
      "Remaining queue : []\n",
      "\n",
      "\n",
      "choose 1 > counter 1 to go, choose 2 > counter 2 to go,choose 3 > costomer waiting..,choose 4 > Exit!\n",
      "\n",
      "\n",
      "Choose an order :4\n",
      "Exit!\n"
     ]
    }
   ],
   "source": [
    "class Queue:\n",
    "    def __init__(self):\n",
    "        self.items = []\n",
    "    def is_empty(self):\n",
    "        return self.items == []\n",
    "    def enqueue(self, item):\n",
    "        self.items.insert(0,item)\n",
    "    def dequeue(self):\n",
    "        return self.items.pop()\n",
    "    def size(self):\n",
    "        return len(self.items)\n",
    "    def show(self):\n",
    "        return self.items\n",
    "\n",
    "def choose():\n",
    "    print(\"\\n\\nchoose 1 > counter 1 to go, choose 2 > counter 2 to go,choose 3 > costomer waiting..,choose 4 > Exit!\\n\\n\")\n",
    "\n",
    "qq = Queue()\n",
    "while True:\n",
    "    choose()\n",
    "    choose_inpt = int(input(\"Choose an order :\"))\n",
    "  \n",
    "    if choose_inpt == 1:\n",
    "        if qq.size() > 0:\n",
    "            dequeue = qq.dequeue()\n",
    "            queue_input = input(\"Name :\")\n",
    "            print(\"Remaining queue :\",qq.show())\n",
    "        else:\n",
    "            print(\"Not queue..\",qq.show())\n",
    "    elif choose_inpt == 2:\n",
    "        if qq.size() > 0:\n",
    "            dequeue = qq.dequeue()\n",
    "            queue_input = input(\"Name :\")\n",
    "            print(\"Remaining queue :\",qq.show())\n",
    "        else:\n",
    "            print(\"Not queue..\",qq.show())\n",
    "    elif choose_inpt == 3:\n",
    "        queue_inpt = input(\"Name :\").strip()\n",
    "        qq.enqueue(queue_inpt)\n",
    "        print(\"Remaining queue\",qq.show())\n",
    "    elif choose_inpt == 4:\n",
    "        print(\"Exit!\")\n",
    "        break "
   ]
  },
  {
   "cell_type": "markdown",
   "metadata": {},
   "source": [
    "### Palindrome"
   ]
  },
  {
   "cell_type": "code",
   "execution_count": 6,
   "metadata": {},
   "outputs": [
    {
     "name": "stdout",
     "output_type": "stream",
     "text": [
      "Enter your word to check :pretty\n",
      "pretty is Palindrome , isFalse\n"
     ]
    }
   ],
   "source": [
    "class Deque:\n",
    "    def __init__(self):\n",
    "        self.items = []\n",
    "    def is_empty(self):\n",
    "        return self.items == []\n",
    "    def add_front(self, item):\n",
    "        self.items.append(item)\n",
    "    def add_rear(self, item):\n",
    "        self.items.insert(0, item)\n",
    "    def remove_front(self):\n",
    "        return self.items.pop()\n",
    "    def remove_rear(self):\n",
    "        return self.items.pop(0)\n",
    "    def size(self):\n",
    "        return len(self.items)\n",
    "word = input(\"Enter your word to check :\")\n",
    "check_deque = Deque()\n",
    "still_queal = True\n",
    "for ch in word:\n",
    "    check_deque.add_rear(ch)\n",
    "while check_deque.size() > 1 and still_queal:\n",
    "    first = check_deque.remove_front()\n",
    "    last = check_deque.remove_rear()\n",
    "    if first != last:\n",
    "        still_queal = False\n",
    "print(\"{} is Palindrome , is{}\".format(word, still_queal))"
   ]
  },
  {
   "cell_type": "code",
   "execution_count": null,
   "metadata": {},
   "outputs": [],
   "source": []
  }
 ],
 "metadata": {
  "kernelspec": {
   "display_name": "Python 3",
   "language": "python",
   "name": "python3"
  },
  "language_info": {
   "codemirror_mode": {
    "name": "ipython",
    "version": 3
   },
   "file_extension": ".py",
   "mimetype": "text/x-python",
   "name": "python",
   "nbconvert_exporter": "python",
   "pygments_lexer": "ipython3",
   "version": "3.7.6"
  }
 },
 "nbformat": 4,
 "nbformat_minor": 4
}
