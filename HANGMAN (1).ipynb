{
 "cells": [
  {
   "cell_type": "markdown",
   "metadata": {},
   "source": [
    "### Hangman"
   ]
  },
  {
   "cell_type": "markdown",
   "metadata": {},
   "source": [
    "### Nanthana Howong 6310301006"
   ]
  },
  {
   "cell_type": "code",
   "execution_count": 2,
   "metadata": {},
   "outputs": [
    {
     "ename": "SyntaxError",
     "evalue": "EOL while scanning string literal (<ipython-input-2-99ae39999216>, line 1)",
     "output_type": "error",
     "traceback": [
      "\u001b[1;36m  File \u001b[1;32m\"<ipython-input-2-99ae39999216>\"\u001b[1;36m, line \u001b[1;32m1\u001b[0m\n\u001b[1;33m    a = input('Game start typing..HANGMAN..:\\n)\u001b[0m\n\u001b[1;37m                                               ^\u001b[0m\n\u001b[1;31mSyntaxError\u001b[0m\u001b[1;31m:\u001b[0m EOL while scanning string literal\n"
     ]
    }
   ],
   "source": [
    "a = input('Game start typing..HANGMAN..:)\n",
    "print(a)\n",
    "import random\n",
    "x = ['python', 'java', 'kotlin', 'javascript']\n",
    "y = (random.randint(0,len(x)-1))\n",
    "z = x[y]\n",
    "guesses = ''\n",
    "turns = 8\n",
    "while turns > 0:\n",
    "    failed = 0\n",
    "    for i in x:\n",
    "        if i in guesses:\n",
    "            print(i)\n",
    "        else:\n",
    "            print('_',end='')\n",
    "            failed +=1\n",
    "    if failed == 0:\n",
    "        print(\"You survived!\")\n",
    "        break\n",
    "    print('')\n",
    "    guess = input(\"Input a letter: > \")\n",
    "    guesses += guess\n",
    "    if guess not in x:\n",
    "        turns -= 1\n",
    "        print(\"No such letter in the word\")\n",
    "    print(\"You have\", + turns, 'lives')\n",
    "    if turns == 0:\n",
    "        print(\"No improvements\")"
   ]
  },
  {
   "cell_type": "code",
   "execution_count": null,
   "metadata": {},
   "outputs": [],
   "source": []
  }
 ],
 "metadata": {
  "kernelspec": {
   "display_name": "Python 3",
   "language": "python",
   "name": "python3"
  },
  "language_info": {
   "codemirror_mode": {
    "name": "ipython",
    "version": 3
   },
   "file_extension": ".py",
   "mimetype": "text/x-python",
   "name": "python",
   "nbconvert_exporter": "python",
   "pygments_lexer": "ipython3",
   "version": "3.7.6"
  }
 },
 "nbformat": 4,
 "nbformat_minor": 4
}
